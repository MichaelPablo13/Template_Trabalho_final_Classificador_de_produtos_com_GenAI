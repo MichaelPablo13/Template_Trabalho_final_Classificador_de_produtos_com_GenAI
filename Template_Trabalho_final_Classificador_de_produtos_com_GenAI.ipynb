{
  "cells": [
    {
      "cell_type": "markdown",
      "metadata": {
        "id": "Gg5ZPMO1jo4L"
      },
      "source": [
        "#**Trabalho final - Classificador de produtos com GenAI**"
      ]
    },
    {
      "cell_type": "markdown",
      "metadata": {
        "id": "KXvR5XhTOG0O"
      },
      "source": [
        "**Nota de atenção:**\n",
        "- Leia com atenção o descritivo do trabalho e as orientações do template.\n",
        "- O trabalho deve ser entregue **respeitando a estrutura do arquivo de template**, utilizando o notebook \"Template Trabalho final - Classificador de produtos com GenAI.ipynb\" e compactado no formato .zip.\n",
        "- Deve haver apenas um arquivo no formato .ipynb, consolidando todo o trabalho."
      ]
    },
    {
      "cell_type": "markdown",
      "metadata": {
        "id": "VDbi6PDS9MYO"
      },
      "source": [
        "**Participantes (RM - NOME):**<br>\n",
        "xxxx - xxxxx<br>\n",
        "xxxx - xxxxx<br>\n",
        "xxxx - xxxxx<br>\n",
        "xxxx - xxxxx<br>"
      ]
    },
    {
      "cell_type": "markdown",
      "metadata": {
        "id": "fpDIYrbRkGzz"
      },
      "source": [
        "###**Caso de uso:**\n",
        "\n",
        "Uma empresa de marketplace, disponibiliza sua plataforma para diversos vendedores cadastrarem seus produtos em diferentes categorias previamente definidas. Essas categorias são utilizadas para melhor distribuir e divulgar seus produtos para os clientes e usuários da plataforma. Mas nem todos os vendedores respeitam essas categorias, regras e as diretrizes do marketplace.\n",
        "\n",
        "Pense nos diversos problemas que podemos enfrentar:\n",
        "- Vendedores que cadastram produtos em categorias erradas;\n",
        "- Vendedores que querem vender produtos ilícitos;\n",
        "- Vendedores que querem vender produtos que não são permitidos pelas políticas do marketplace e por aí vai...\n",
        "\n",
        "**Será que é possível validar o cadastro desses produtos e categorias, produto por produto**? Um por um?... Que trampo, não???\n",
        "\n",
        "###**Desafio:**\n",
        "- Conseguimos ajudar a mitigar parte desse problema?\n",
        "- Você conseguiria criar algum **processo** que diminua esse trabalho manual e que **valide a categoria** desses produtos?\n",
        "\n",
        "Bom, podemos criar um **processo que seja capaz de classificar um produto através do nome e da descrição**, e depois podemos confrontar com a categoria e premissas da plataforma usando **IA Generativa e modelos LLMs**.\n",
        "\n",
        "###**Orientações:**\n",
        "\n",
        "---\n",
        "####**Usem o Google Colab com Python e esse template para desenvolverem o trabalho.**\n",
        "---\n",
        "\n",
        "**1. Análise exploratória**, vamos começar explorando a base de dados de produtos [1]?\n",
        "  - Faça uma análise exploratória para entender os dados e estrutura do dataframe.\n",
        "  - Crie uma nova coluna no dataframe chamada **`texto`** concatenando as colunas **`nome`** e **`descricao`**. Ex.: `nome + \" \" + descricao`.\n",
        "  - Crie um dataframe novo e selecionando uma amostra aleatória de **100 registros** usando o `random_state = 42` (veja o exemplo abaixo).\n",
        "  \n",
        "  ***Obs**.:\n",
        "    - É importante manter essa configuração da amostra para os trabalhos ficarem comparáveis e classificando os mesmos produtos.\n",
        "    - Faça a análise exploratória com a base completa e não apenas com o sample.\n",
        "\n",
        "**2. Desenvolvimento e testes**, nessa parte é onde vocês podem explorar o desenvolvimento do trabalho aplicando as técnicas, ferramentas e serviços de GenAI.  \n",
        "  - Explore diferentes formas de tratar o problema. Comece selecionando casos individuais para testar as ferramentas, framework, APIs e técnicas de prompt engineering.\n",
        "  - Fiquem à vontade para explorar os serviços e frameworks vistos em aula: API da OpenAI Platform, API da Azure AI Foundry e LangChain.\n",
        "  - Sejam criativo, mas não precisa de complexidade e podem explorar outras formas de desenvolver.\n",
        "  - Explique as decisões e racional do desenvolvimento. Abuse dos comentários.\n",
        "\n",
        "**3. Processo final**, aqui nessa parte separe apenas o processo final com um pipeline completo para classificar a categoria dos produtos.\n",
        "  - Crie uma função de receba um `texto` (nome + descrição do produto) e retorne a categoria classificada pelo texto.\n",
        "  - Aplique essa função no dataframe com os 100 casos.\n",
        "  - Resultado esperado: No dataframe de produto com os 100 casos, crie uma nova coluna de categoria: `categoria_genai`.\n",
        "  - Valide se a classificação da Ia Generativa de cada produto está correta ou divergente comparando com a coluna `categora` escolhida pelo vendedor. Crie uma nova coluna `validacao_categoria` com os valores da validação: `correta` ou `divergente`.\n",
        "\n",
        "###**Avaliação:**\n",
        "O trabalho será avaliado pelas seguintes diretrizes:\n",
        "  - Demonstração de conhecimento com os temas abordados em sala de aula.\n",
        "  - Utilização correta dos frameworks, APIs e aplicação das técnicas de prompt engineering.\n",
        "  - Organização, comentários e explicação certamente vão ajudar na nota.\n",
        "  - Resultado esperado seguindo as orientações do professor nesse template.\n",
        "\n",
        "###**Atenção:**\n",
        "- Use sua conta da **Azure AI Foundry** ou da **OpenAI Platform** para desenvolver o trabalho, mas dê preferência para a conta da Azure por causa dos limites de crédito. **Não deixe suas credenciais no trabalho, por favor!**\n",
        "- Trabalhos iguais são passíveis de reprovação ou desconto de nota.\n",
        "- Respeite a estrutura do template fornecido pelo professor.\n",
        "- Limite de 4 pessoas por grupo, de preferência o mesmo grupo do Startup One.\n",
        "\n",
        "###**[1] Base de dados de produtos - https://dados-ml-pln.s3-sa-east-1.amazonaws.com/produtos.csv**\n"
      ]
    },
    {
      "cell_type": "markdown",
      "metadata": {
        "id": "kOWaFxcMqV6W"
      },
      "source": [
        "##**1. Análise exploratória**"
      ]
    },
    {
      "cell_type": "markdown",
      "metadata": {
        "id": "KIN73qqjmDJs"
      },
      "source": [
        "Desenvolva aqui:"
      ]
    },
    {
      "cell_type": "code",
      "execution_count": 7,
      "metadata": {},
      "outputs": [
        {
          "name": "stdout",
          "output_type": "stream",
          "text": [
            "Defaulting to user installation because normal site-packages is not writeable\n",
            "Requirement already satisfied: pandas in c:\\users\\micha\\appdata\\roaming\\python\\python313\\site-packages (2.3.2)\n",
            "Requirement already satisfied: numpy>=1.26.0 in c:\\users\\micha\\appdata\\roaming\\python\\python313\\site-packages (from pandas) (2.3.3)\n",
            "Requirement already satisfied: python-dateutil>=2.8.2 in c:\\users\\micha\\appdata\\roaming\\python\\python313\\site-packages (from pandas) (2.9.0.post0)\n",
            "Requirement already satisfied: pytz>=2020.1 in c:\\users\\micha\\appdata\\roaming\\python\\python313\\site-packages (from pandas) (2025.2)\n",
            "Requirement already satisfied: tzdata>=2022.7 in c:\\users\\micha\\appdata\\roaming\\python\\python313\\site-packages (from pandas) (2025.2)\n",
            "Requirement already satisfied: six>=1.5 in c:\\users\\micha\\appdata\\roaming\\python\\python313\\site-packages (from python-dateutil>=2.8.2->pandas) (1.17.0)\n"
          ]
        },
        {
          "name": "stderr",
          "output_type": "stream",
          "text": [
            "\n",
            "[notice] A new release of pip is available: 25.1.1 -> 25.2\n",
            "[notice] To update, run: python.exe -m pip install --upgrade pip\n"
          ]
        }
      ],
      "source": [
        "!pip install pandas"
      ]
    },
    {
      "cell_type": "code",
      "execution_count": 8,
      "metadata": {
        "colab": {
          "base_uri": "https://localhost:8080/",
          "height": 206
        },
        "id": "wBcbl0BDfThK",
        "outputId": "451c9fb3-7400-480c-db16-ce44593795cd"
      },
      "outputs": [
        {
          "data": {
            "text/html": [
              "<div>\n",
              "<style scoped>\n",
              "    .dataframe tbody tr th:only-of-type {\n",
              "        vertical-align: middle;\n",
              "    }\n",
              "\n",
              "    .dataframe tbody tr th {\n",
              "        vertical-align: top;\n",
              "    }\n",
              "\n",
              "    .dataframe thead th {\n",
              "        text-align: right;\n",
              "    }\n",
              "</style>\n",
              "<table border=\"1\" class=\"dataframe\">\n",
              "  <thead>\n",
              "    <tr style=\"text-align: right;\">\n",
              "      <th></th>\n",
              "      <th>nome</th>\n",
              "      <th>descricao</th>\n",
              "      <th>categoria</th>\n",
              "    </tr>\n",
              "  </thead>\n",
              "  <tbody>\n",
              "    <tr>\n",
              "      <th>33</th>\n",
              "      <td>Extraordinário</td>\n",
              "      <td>Produto Novo“Extraordinário” é um livro que conquistou diversos públicos e foi adaptado para o cinema ainda em 2017! Aproveite para ler o livro e conhecer essa história inteligente, sensível e leve que traz mensagens sutis e humanas, deixando uma verdadeira lição de vida sobre respeito e amor ao próximo. “Toda pessoa deveria ser aplaudida de pé pelo menos uma vez na vida, porque todos nós vencemos o mundo” August Pullman (Extraordinário)  Não julgue um menino pela cara  Não existe nome mais adequado para este livro: “Extraordinário”. De leitura dinâmica, prazerosa e envolvente, “Extraordinário” conta a história de August Pullman, o Auggie, uma criança que nasceu com uma séria síndrome genética que o deixou com deformidades faciais, fazendo com que ele passasse por diversas cirurgias e complicações médicas ao longo dos seus poucos anos de vida. Auggie foi educado em casa até os 10 anos, quando começou a frequentar o quinto ano em uma escola de verdade. Ser o aluno novo não é fácil, mas com um rosto tão diferente pode ser ainda mais difícil! Auggie vai ter que convencer seus colegas do colégio particular de Nova York que, apesar de sua aparência diferente, ele é um menino igual a todos os outros.CaracterísticasAutor: R. J. PalacioPeso: 0.35I.S.B.N.: 9788580573015Altura: 23.000000Largura: 16.000000Profundidade: 1.000000Número de Páginas: 320Idioma: PortuguêsAcabamento: BrochuraTradutor: Rachel AgavinoNúmero da edição: 1Ano da edição: 2013Segmento: Ficção - Histórias inquietantes - Dramas</td>\n",
              "      <td>livro</td>\n",
              "    </tr>\n",
              "    <tr>\n",
              "      <th>3316</th>\n",
              "      <td>Fifa 2018 Narração Português Completo Midia Digital X360</td>\n",
              "      <td>FIFA 2018 - XBOX 360 MIDIA DIGITAL COMPLETOATENÇÃO: JOGO É DIGITAL !!!!!!Jogo original completo licenciado pela xbox live !!!&gt; APROVEITE NOSSA PROMOÇÃO &lt;Jogo original completo licenciado pela xbox live !!!Jogo completo, você jogará normal em seu PERFIL PESSOAL na xbox live, online ou offline como quiser, não é codigo 25 digitos, para facilitar sua instalação em seu console, mandaremos um tutorial ensinando todo passo a passo fique tranquilo.NA HORA DE COMPRAR SELECIONE:\" RETIRAR COM VENDEDOR \"NÃO É NECESSÁRIO PAGAR FRETE, PRODUTO DIGITAL !!!ENTREGAMOS EM ATÉ 20 MINUTOS...APROVEITE A PROMOÇÃO PREÇO MAIS BARATO QUE A PROPRIA XBOX LIVE !!!JOGO SOMENTE DISPONIVEL PARA XBOX 360 !!JOGO SOMENTE DISPONIVEL PARA XBOX 360 !!JOGO SOMENTE DISPONIVEL PARA XBOX 360 !!Sou Vendedor AutorizadoLei dos direitos autorais nº 5.988, de 14 de dezembro de 1973.LEI Nº 9.610, DE 19 DE FEVEREIRO DE 1998.Estamos de acordo com os Termos e Condições Gerais do SitePolitica do MERCADO LIVRE descrito na clausula 5.3</td>\n",
              "      <td>game</td>\n",
              "    </tr>\n",
              "    <tr>\n",
              "      <th>1557</th>\n",
              "      <td>Kit Mega Sarutobi Kunai Naruto Asuma Shurikens Kit Ninja</td>\n",
              "      <td>Descrição do Kit Ninja (Foto):Uma Kunai Asuma de Borracha de aproximadamente 28cmUma Kunai Naruto de Borracha com 25cmDuas Shurikens de Borracha com 10cm cadaDuas Tags Individuais</td>\n",
              "      <td>brinquedo</td>\n",
              "    </tr>\n",
              "    <tr>\n",
              "      <th>2548</th>\n",
              "      <td>Caixa 50 Cores Batom Queen Fosco Matte Nude Kit Atacado Top</td>\n",
              "      <td>CAIXA C/ 50 CORES DIFERENTES!BATOM MATTE QUEEN!Kit com 50 cores - Batom Queen Matte Fosco!São 50 cores diferentes conforme fotos! Cores: 01 à 50.Acompanha Caixa Display com amostras!Caixa sortida!</td>\n",
              "      <td>maquiagem</td>\n",
              "    </tr>\n",
              "    <tr>\n",
              "      <th>457</th>\n",
              "      <td>Box Dourado Crónica De Gelo E Fogo Edição De Colecionador .</td>\n",
              "      <td>A série Crônicas de Gelo e apresentações. São mais de 30 milhões de livros vendidos ao redor do mundo - e cerca de 2 milhões do Brasil. Os números, assim como a profusão de tramas e personagens impressiona e atrai mais fãs a cada dia. Para satisfazer a ânsia dos aficionados e dos novos leitores, a Editora Leya publica uma nova edição limitada de Box Crônicas de Gelo e Fogo com os cinco livros já escritos:VOLUME 1 - A GUERRA DOS TRONOS:No fictício Continente Westeros, uma terra onde o verão pode durar décadas e o inverno toda uma vida, os problemas estão apenas começando. O frio está de volta e nas florestas ao norte de Winterfell, forças sobrenaturais se espalham por trás da Muralha que protege a região. No centro do conflito estão os Stark, do reino de Winterfell. VOLUME 2 - A FÚRIA DOS REIS:Quando um cometa vermelho cruza os céus de Westeros, os Sete Reinos estão em plena guerra civil. Os exércitos dos Stark e dos Lannister estão se preparando para o confronto final, e Stannis, irmão do falecido Rei Robert, desejoso de possuir um exército que lute pela sua reivindicação ao trono, alia-se a uma misteriosa religião oriental. Porém, seu irmão mais novo também se proclama rei. E, enquanto isso, os Greyjoy planejam vingança contra todos os que os humilharam dez anos atrás.VOLUME 3 - A TORMENTA DE ESPADAS:Enquanto os Sete Reinos estremecem com a chegada dos temíveis selvagens pela Muralha, Jon Snow, o Bastardo de Winterfell, que se encontra entre eles, divide-se entre sua consciência e o papel que é forçado a desempenhar. Robb Stark, o Jovem Lobo, vence todas as suas batalhas. E Arya continua a caminho de Correrrio. Na corte de Joffrey, em Porto Real, Tyrion luta pela vida  e Sansa, precisa lidar com as consequências de ser a segunda na linha de sucessão de Winterfell, uma vez que Bran e Rickon estariam mortos. VOLUME 4 - O FESTIM DOS CORVOS:Uma reviravolta nos Sete Reinos! Traições, mortes, novos senhores, novas alianças, alguns velhos traidores e o anúncio de dragões vivos além-mar. Ajudada por Mindinho, que tem outros planos para a garota que agora é a Senhora de Winterfell, Sansa finalmente conseguiu fugir do castelo em Porto Real, já que Robb e Catelyn foram executados pelos Frey, e Bran e Rickon desapareceram. Arya está sozinha vagando pelas florestas de Westeros em busca do Castelo Preto e Branco. E John Snow, agora comandante da Patrulha da Noite.VOLUME 5 - A DANÇA DOS DRAGÕES:Daenerys Targaryen governa uma cidade construída sobre o pó e a morte e aprende que conquistar algo é mais fácil do que modificá-lo. Tyrion precisa pegar em armas para se salvar e descobre que um homem pequeno com um escudo grande pode realmente confundir os inimigos. Enquanto isso, Bran prossegue a sua viagem, enquanto outras acontecem para a Baía dos Escravos e Daenerys percebe que seus inimigos estão cada vez mais numerosos e sedentos para destruí-la. Informações técnicas:- Autor: George R. R. Martin - Tipo de Capa: Brochura - Formato: Pocket</td>\n",
              "      <td>livro</td>\n",
              "    </tr>\n",
              "  </tbody>\n",
              "</table>\n",
              "</div>"
            ],
            "text/plain": [
              "                                                               nome  \\\n",
              "33                                                  Extraordinário    \n",
              "3316      Fifa 2018 Narração Português Completo Midia Digital X360    \n",
              "1557      Kit Mega Sarutobi Kunai Naruto Asuma Shurikens Kit Ninja    \n",
              "2548   Caixa 50 Cores Batom Queen Fosco Matte Nude Kit Atacado Top    \n",
              "457    Box Dourado Crónica De Gelo E Fogo Edição De Colecionador .    \n",
              "\n",
              "                                                                                                                                                                                                                                                                                                                                                                                                                                                                                                                                                                                                                                                                                                                                                                                                                                                                                                                                                                                                                                                                                                                                                                                                                                                                                                                                                                                                                                                                                                                                                                                                                                                                                                                                                                                                                                                                                                                                                                                                                                                                                                                                                                                                                                                                                                                                                                                                                                                                                                                                                                                                                                                                                                                                                                                                                                                                                                                                                                                                                                                                                             descricao  \\\n",
              "33                                                                                                                                                                                                                                                                                                                                                                                                                                                                                                                                                                                                                                                                                                                                                                                                                                                                                                                                                                                                                                                                                                                                                                                                                                                                                                                                                                                                                                                                                                                               Produto Novo“Extraordinário” é um livro que conquistou diversos públicos e foi adaptado para o cinema ainda em 2017! Aproveite para ler o livro e conhecer essa história inteligente, sensível e leve que traz mensagens sutis e humanas, deixando uma verdadeira lição de vida sobre respeito e amor ao próximo. “Toda pessoa deveria ser aplaudida de pé pelo menos uma vez na vida, porque todos nós vencemos o mundo” August Pullman (Extraordinário)  Não julgue um menino pela cara  Não existe nome mais adequado para este livro: “Extraordinário”. De leitura dinâmica, prazerosa e envolvente, “Extraordinário” conta a história de August Pullman, o Auggie, uma criança que nasceu com uma séria síndrome genética que o deixou com deformidades faciais, fazendo com que ele passasse por diversas cirurgias e complicações médicas ao longo dos seus poucos anos de vida. Auggie foi educado em casa até os 10 anos, quando começou a frequentar o quinto ano em uma escola de verdade. Ser o aluno novo não é fácil, mas com um rosto tão diferente pode ser ainda mais difícil! Auggie vai ter que convencer seus colegas do colégio particular de Nova York que, apesar de sua aparência diferente, ele é um menino igual a todos os outros.CaracterísticasAutor: R. J. PalacioPeso: 0.35I.S.B.N.: 9788580573015Altura: 23.000000Largura: 16.000000Profundidade: 1.000000Número de Páginas: 320Idioma: PortuguêsAcabamento: BrochuraTradutor: Rachel AgavinoNúmero da edição: 1Ano da edição: 2013Segmento: Ficção - Histórias inquietantes - Dramas   \n",
              "3316                                                                                                                                                                                                                                                                                                                                                                                                                                                                                                                                                                                                                                                                                                                                                                                                                                                                                                                                                                                                                                                                                                                                                                                                                                                                                                                                                                                                                                                                                                                                                                                                                                                                                                                                                                                                                                                                                                                                                                                                                                                            FIFA 2018 - XBOX 360 MIDIA DIGITAL COMPLETOATENÇÃO: JOGO É DIGITAL !!!!!!Jogo original completo licenciado pela xbox live !!!> APROVEITE NOSSA PROMOÇÃO <Jogo original completo licenciado pela xbox live !!!Jogo completo, você jogará normal em seu PERFIL PESSOAL na xbox live, online ou offline como quiser, não é codigo 25 digitos, para facilitar sua instalação em seu console, mandaremos um tutorial ensinando todo passo a passo fique tranquilo.NA HORA DE COMPRAR SELECIONE:\" RETIRAR COM VENDEDOR \"NÃO É NECESSÁRIO PAGAR FRETE, PRODUTO DIGITAL !!!ENTREGAMOS EM ATÉ 20 MINUTOS...APROVEITE A PROMOÇÃO PREÇO MAIS BARATO QUE A PROPRIA XBOX LIVE !!!JOGO SOMENTE DISPONIVEL PARA XBOX 360 !!JOGO SOMENTE DISPONIVEL PARA XBOX 360 !!JOGO SOMENTE DISPONIVEL PARA XBOX 360 !!Sou Vendedor AutorizadoLei dos direitos autorais nº 5.988, de 14 de dezembro de 1973.LEI Nº 9.610, DE 19 DE FEVEREIRO DE 1998.Estamos de acordo com os Termos e Condições Gerais do SitePolitica do MERCADO LIVRE descrito na clausula 5.3   \n",
              "1557                                                                                                                                                                                                                                                                                                                                                                                                                                                                                                                                                                                                                                                                                                                                                                                                                                                                                                                                                                                                                                                                                                                                                                                                                                                                                                                                                                                                                                                                                                                                                                                                                                                                                                                                                                                                                                                                                                                                                                                                                                                                                                                                                                                                                                                                                                                                                                                                                                                                                                                                                                                                                                                                                                                                                                                                                                                                                                               Descrição do Kit Ninja (Foto):Uma Kunai Asuma de Borracha de aproximadamente 28cmUma Kunai Naruto de Borracha com 25cmDuas Shurikens de Borracha com 10cm cadaDuas Tags Individuais   \n",
              "2548                                                                                                                                                                                                                                                                                                                                                                                                                                                                                                                                                                                                                                                                                                                                                                                                                                                                                                                                                                                                                                                                                                                                                                                                                                                                                                                                                                                                                                                                                                                                                                                                                                                                                                                                                                                                                                                                                                                                                                                                                                                                                                                                                                                                                                                                                                                                                                                                                                                                                                                                                                                                                                                                                                                                                                                                                                                                                              CAIXA C/ 50 CORES DIFERENTES!BATOM MATTE QUEEN!Kit com 50 cores - Batom Queen Matte Fosco!São 50 cores diferentes conforme fotos! Cores: 01 à 50.Acompanha Caixa Display com amostras!Caixa sortida!   \n",
              "457   A série Crônicas de Gelo e apresentações. São mais de 30 milhões de livros vendidos ao redor do mundo - e cerca de 2 milhões do Brasil. Os números, assim como a profusão de tramas e personagens impressiona e atrai mais fãs a cada dia. Para satisfazer a ânsia dos aficionados e dos novos leitores, a Editora Leya publica uma nova edição limitada de Box Crônicas de Gelo e Fogo com os cinco livros já escritos:VOLUME 1 - A GUERRA DOS TRONOS:No fictício Continente Westeros, uma terra onde o verão pode durar décadas e o inverno toda uma vida, os problemas estão apenas começando. O frio está de volta e nas florestas ao norte de Winterfell, forças sobrenaturais se espalham por trás da Muralha que protege a região. No centro do conflito estão os Stark, do reino de Winterfell. VOLUME 2 - A FÚRIA DOS REIS:Quando um cometa vermelho cruza os céus de Westeros, os Sete Reinos estão em plena guerra civil. Os exércitos dos Stark e dos Lannister estão se preparando para o confronto final, e Stannis, irmão do falecido Rei Robert, desejoso de possuir um exército que lute pela sua reivindicação ao trono, alia-se a uma misteriosa religião oriental. Porém, seu irmão mais novo também se proclama rei. E, enquanto isso, os Greyjoy planejam vingança contra todos os que os humilharam dez anos atrás.VOLUME 3 - A TORMENTA DE ESPADAS:Enquanto os Sete Reinos estremecem com a chegada dos temíveis selvagens pela Muralha, Jon Snow, o Bastardo de Winterfell, que se encontra entre eles, divide-se entre sua consciência e o papel que é forçado a desempenhar. Robb Stark, o Jovem Lobo, vence todas as suas batalhas. E Arya continua a caminho de Correrrio. Na corte de Joffrey, em Porto Real, Tyrion luta pela vida  e Sansa, precisa lidar com as consequências de ser a segunda na linha de sucessão de Winterfell, uma vez que Bran e Rickon estariam mortos. VOLUME 4 - O FESTIM DOS CORVOS:Uma reviravolta nos Sete Reinos! Traições, mortes, novos senhores, novas alianças, alguns velhos traidores e o anúncio de dragões vivos além-mar. Ajudada por Mindinho, que tem outros planos para a garota que agora é a Senhora de Winterfell, Sansa finalmente conseguiu fugir do castelo em Porto Real, já que Robb e Catelyn foram executados pelos Frey, e Bran e Rickon desapareceram. Arya está sozinha vagando pelas florestas de Westeros em busca do Castelo Preto e Branco. E John Snow, agora comandante da Patrulha da Noite.VOLUME 5 - A DANÇA DOS DRAGÕES:Daenerys Targaryen governa uma cidade construída sobre o pó e a morte e aprende que conquistar algo é mais fácil do que modificá-lo. Tyrion precisa pegar em armas para se salvar e descobre que um homem pequeno com um escudo grande pode realmente confundir os inimigos. Enquanto isso, Bran prossegue a sua viagem, enquanto outras acontecem para a Baía dos Escravos e Daenerys percebe que seus inimigos estão cada vez mais numerosos e sedentos para destruí-la. Informações técnicas:- Autor: George R. R. Martin - Tipo de Capa: Brochura - Formato: Pocket    \n",
              "\n",
              "      categoria  \n",
              "33        livro  \n",
              "3316       game  \n",
              "1557  brinquedo  \n",
              "2548  maquiagem  \n",
              "457       livro  "
            ]
          },
          "execution_count": 8,
          "metadata": {},
          "output_type": "execute_result"
        }
      ],
      "source": [
        "# Exemplo de como ficaria o sample de 100 casos\n",
        "import pandas as pd\n",
        "\n",
        "df = pd.read_csv(\n",
        "    \"https://dados-ml-pln.s3-sa-east-1.amazonaws.com/produtos.csv\",\n",
        "    delimiter=\";\",\n",
        "    encoding='utf-8' ).sample(100, random_state=42)\n",
        "\n",
        "df.head()"
      ]
    },
    {
      "cell_type": "code",
      "execution_count": 9,
      "metadata": {},
      "outputs": [
        {
          "name": "stdout",
          "output_type": "stream",
          "text": [
            "<class 'pandas.core.frame.DataFrame'>\n",
            "Index: 100 entries, 33 to 132\n",
            "Data columns (total 3 columns):\n",
            " #   Column     Non-Null Count  Dtype \n",
            "---  ------     --------------  ----- \n",
            " 0   nome       100 non-null    object\n",
            " 1   descricao  64 non-null     object\n",
            " 2   categoria  100 non-null    object\n",
            "dtypes: object(3)\n",
            "memory usage: 3.1+ KB\n"
          ]
        }
      ],
      "source": [
        "df.info()"
      ]
    },
    {
      "cell_type": "code",
      "execution_count": 10,
      "metadata": {
        "id": "871VvqkZqdhL"
      },
      "outputs": [],
      "source": [
        "pd.get_option('display.max_colwidth') #50"
      ]
    },
    {
      "cell_type": "code",
      "execution_count": 11,
      "metadata": {},
      "outputs": [
        {
          "name": "stdout",
          "output_type": "stream",
          "text": [
            "General Info:\n",
            "<class 'pandas.core.frame.DataFrame'>\n",
            "Index: 100 entries, 33 to 132\n",
            "Data columns (total 3 columns):\n",
            " #   Column     Non-Null Count  Dtype \n",
            "---  ------     --------------  ----- \n",
            " 0   nome       100 non-null    object\n",
            " 1   descricao  64 non-null     object\n",
            " 2   categoria  100 non-null    object\n",
            "dtypes: object(3)\n",
            "memory usage: 3.1+ KB\n",
            "\n",
            "Missing values per column:\n",
            "nome          0\n",
            "descricao    36\n",
            "categoria     0\n",
            "dtype: int64\n",
            "\n",
            "Unique values per column:\n",
            "nome         100\n",
            "descricao     64\n",
            "categoria      4\n",
            "dtype: int64\n",
            "\n",
            "Sample value counts for 'categoria':\n",
            "categoria\n",
            "game         30\n",
            "brinquedo    28\n",
            "livro        21\n",
            "maquiagem    21\n",
            "Name: count, dtype: int64\n",
            "\n",
            "Descriptive statistics for text length in 'nome' and 'descricao':\n",
            "       nome_length  descricao_length\n",
            "count   100.000000         64.000000\n",
            "mean     51.730000       1119.625000\n",
            "std      12.806134       1065.117975\n",
            "min      16.000000         12.000000\n",
            "25%      47.000000        470.000000\n",
            "50%      58.000000        815.000000\n",
            "75%      61.000000       1381.000000\n",
            "max      62.000000       5710.000000\n"
          ]
        }
      ],
      "source": [
        "# Descriptive statistics for the dataframe\n",
        "print(\"General Info:\")\n",
        "df.info()\n",
        "\n",
        "print(\"\\nMissing values per column:\")\n",
        "print(df.isnull().sum())\n",
        "\n",
        "print(\"\\nUnique values per column:\")\n",
        "print(df.nunique())\n",
        "\n",
        "print(\"\\nSample value counts for 'categoria':\")\n",
        "print(df['categoria'].value_counts())\n",
        "\n",
        "print(\"\\nDescriptive statistics for text length in 'nome' and 'descricao':\")\n",
        "df['nome_length'] = df['nome'].str.len()\n",
        "df['descricao_length'] = df['descricao'].str.len()\n",
        "print(df[['nome_length', 'descricao_length']].describe())"
      ]
    },
    {
      "cell_type": "code",
      "execution_count": 16,
      "metadata": {},
      "outputs": [],
      "source": [
        "df['texto'] = df['nome'] + \" \" + df['descricao'].fillna(\"\")\n"
      ]
    },
    {
      "cell_type": "code",
      "execution_count": 17,
      "metadata": {},
      "outputs": [
        {
          "data": {
            "text/html": [
              "<div>\n",
              "<style scoped>\n",
              "    .dataframe tbody tr th:only-of-type {\n",
              "        vertical-align: middle;\n",
              "    }\n",
              "\n",
              "    .dataframe tbody tr th {\n",
              "        vertical-align: top;\n",
              "    }\n",
              "\n",
              "    .dataframe thead th {\n",
              "        text-align: right;\n",
              "    }\n",
              "</style>\n",
              "<table border=\"1\" class=\"dataframe\">\n",
              "  <thead>\n",
              "    <tr style=\"text-align: right;\">\n",
              "      <th></th>\n",
              "      <th>nome</th>\n",
              "      <th>descricao</th>\n",
              "      <th>categoria</th>\n",
              "      <th>nome_length</th>\n",
              "      <th>descricao_length</th>\n",
              "      <th>texto</th>\n",
              "    </tr>\n",
              "  </thead>\n",
              "  <tbody>\n",
              "    <tr>\n",
              "      <th>3106</th>\n",
              "      <td>Acabamento Para Degrau De Escada - Cantoneira L Em Aluminio</td>\n",
              "      <td>Cantoneira L P/ Acabamento de Degrau cor.: Aluminio NaturalDimensões: 14mm x 34mm x 1,00ml Beneficio do FRETE GRÁTIS nas compra de 14 unidades ou mais.-A Contoneira Metallica em L é utilizada para dar acabamentos em degraus de escada e quinas, seu uso não é restrito apenas a pisos laminados e vinílicos, podendo ser utilizada também em pisos cerâmicos, epóxi e cimenticos.-Seu uso ajuda a manter a vida útil do piso, pois a cantoneira protege a área mais frágil e exposta.Obs.: A fixação deste perfil deve ser realizada cola de contato ou silicone de alta aderencia. Cod.: 5904Peso: 90g</td>\n",
              "      <td>game</td>\n",
              "      <td>61</td>\n",
              "      <td>587.0</td>\n",
              "      <td>Acabamento Para Degrau De Escada - Cantoneira L Em Aluminio  Cantoneira L P/ Acabamento de Degrau cor.: Aluminio NaturalDimensões: 14mm x 34mm x 1,00ml Beneficio do FRETE GRÁTIS nas compra de 14 unidades ou mais.-A Contoneira Metallica em L é utilizada para dar acabamentos em degraus de escada e quinas, seu uso não é restrito apenas a pisos laminados e vinílicos, podendo ser utilizada também em pisos cerâmicos, epóxi e cimenticos.-Seu uso ajuda a manter a vida útil do piso, pois a cantoneira protege a área mais frágil e exposta.Obs.: A fixação deste perfil deve ser realizada cola de contato ou silicone de alta aderencia. Cod.: 5904Peso: 90g</td>\n",
              "    </tr>\n",
              "    <tr>\n",
              "      <th>1611</th>\n",
              "      <td>2 Beyblades Original Rapidity + 4 Pontas 2 Lançador Promoção</td>\n",
              "      <td>Contém: 2 Beyblades + 2 Lançadores Speed + Acessórios + Adesivos + 4 Pontas (2 Pontas de Metal + 2 Pontas de Plástico)Obs.: As ponteiras de metal são enviadas de forma aleatória, ou seja, você pode receber algum dos 2 modelos das imagens que estão sendo mostradas.--- ESCOLHA A BEYBLADE DESEJADA APÓS A COMPRA REALIZADA VIA MENSAGEM ---Primeira Imagem1 - Beyblade Pegasus Big Bang Pegasis - BB1052 - Beyblade L Drago Destroy - BB1083 - Beyblade L Drago Gold4 - Beyblade Quetzalcoatl Death - BB1195 - Beyblade Omega Dragonis - BB1286 - Beyblade Fusion Hades - BB1237 - Beyblade Phantom Orion - BB1188 - Beyblade Diablo Proto Nemesis - BB1209 - Beyblade Diablo Nemesis XD - BB12210 - Beyblade Twisted Tempo Basalt Horogium - BB10411 - Beyblade Scythe Kronos - BB11312 - Beyblade Kreis Cygnus - BB12413 - Beyblade Beat Lynx Super Rare - BB10914 - Beyblade L Drago Guardian - BB121B15 - Beyblade Fang Leone (Green) - BB10616 - Beyblade Pegasus Wing Pegasis - BB121A17 - Beyblade Variares - BB11418 - Beyblade Flash Sagittario - BB12619 - Beyblade Mercury Anubis Red - BB11120 - Beyblade Duouranus - BB121CSegunda Imagem21 - Beyblade Blitz Striker Unicornio - BB11722 - Beyblade Fang Leone (Red) - WBBA Rare23 - Beyblade Divine Fox - BB116E24 - Beyblade Jade Jupiter - BB116A25 - Beyblade Svrew Fox - BB116F26 - Beyblade Nightmare Rex - WBBA27 - Beyblade Meteo L-Drago Assault - BB98 WBBA - Blue28 - Beyblade Rock Fang Leone King Counterattack - WBBA29 - Beyblade Bakushin Susanow Black - WBBA30 - Beyblade Gravity Perseus Defense - WBBA31 - Beyblade Astro Spegasis - WBBA32 - Beyblade Screw Lyra - BB116B33 - Beyblade Galaxy Pegasis Black Sun (Black + Gold)34 - Beyblade Hell Kerbecs - BB9935 - Beyblade Hell Crown - BB116C36 - Beyblade Mercury Anubis Blue - WBBA37 - Beyblade Pegasus Cosmic - WBBA38 - Beyblade Sgrew Capricorne - BB10239 - Beyblade Random Booster Vol 5 - BB8240 - Beyblade Forbidden Ionis - BB116GTerceira Imagem41 - Beyblade Meteo L-Drago Rush - BB9842 - Beyblade Storm Dragon43 - Beyblade Super Sagittario - BB3544 - Beyblade Gravity Perseus - BB8045 - Beyblade Super Phoenix - BB5946 - Beyblade Leo Specialties - BB3047 - Beyblade New Sun God - BB8948 - Beyblade Rock Giraffe - BB7849 - Beyblade Super K Gemios - BB5650 - Beyblade Ravy Unicorno - BB7151 - Beyblade Galaxy Pegasis - BB7052 - Beyblade Rock Spegasis - BB2853 - Beyblade Spegasis L Drago - BB4354 - Beyblade Super F Libra - BB4855 - Beyblade Super Virgo - BB6056 - Beyblade Thermal Lacerta - BB7457 - Beyblade Super Snake - BB6958 - Beyblade Storm Capricorne - BB5059 - Beyblade Super Halcyone - BB4060 - Beyblade Super Wolf - BB29Quarta Imagem61 - Beyblade Super Thermal Pisces - BB5762 - Beyblade Super Giraffe - BB8663 - Beyblade Super C Aquario - BB3764 - Beyblade Super Rescolpio - BB6565 - Beyblade Super Dark Cancer - BB5566 - Beyblade Earth Aquila Bird of Jove - BB47</td>\n",
              "      <td>brinquedo</td>\n",
              "      <td>62</td>\n",
              "      <td>2855.0</td>\n",
              "      <td>2 Beyblades Original Rapidity + 4 Pontas 2 Lançador Promoção  Contém: 2 Beyblades + 2 Lançadores Speed + Acessórios + Adesivos + 4 Pontas (2 Pontas de Metal + 2 Pontas de Plástico)Obs.: As ponteiras de metal são enviadas de forma aleatória, ou seja, você pode receber algum dos 2 modelos das imagens que estão sendo mostradas.--- ESCOLHA A BEYBLADE DESEJADA APÓS A COMPRA REALIZADA VIA MENSAGEM ---Primeira Imagem1 - Beyblade Pegasus Big Bang Pegasis - BB1052 - Beyblade L Drago Destroy - BB1083 - Beyblade L Drago Gold4 - Beyblade Quetzalcoatl Death - BB1195 - Beyblade Omega Dragonis - BB1286 - Beyblade Fusion Hades - BB1237 - Beyblade Phantom Orion - BB1188 - Beyblade Diablo Proto Nemesis - BB1209 - Beyblade Diablo Nemesis XD - BB12210 - Beyblade Twisted Tempo Basalt Horogium - BB10411 - Beyblade Scythe Kronos - BB11312 - Beyblade Kreis Cygnus - BB12413 - Beyblade Beat Lynx Super Rare - BB10914 - Beyblade L Drago Guardian - BB121B15 - Beyblade Fang Leone (Green) - BB10616 - Beyblade Pegasus Wing Pegasis - BB121A17 - Beyblade Variares - BB11418 - Beyblade Flash Sagittario - BB12619 - Beyblade Mercury Anubis Red - BB11120 - Beyblade Duouranus - BB121CSegunda Imagem21 - Beyblade Blitz Striker Unicornio - BB11722 - Beyblade Fang Leone (Red) - WBBA Rare23 - Beyblade Divine Fox - BB116E24 - Beyblade Jade Jupiter - BB116A25 - Beyblade Svrew Fox - BB116F26 - Beyblade Nightmare Rex - WBBA27 - Beyblade Meteo L-Drago Assault - BB98 WBBA - Blue28 - Beyblade Rock Fang Leone King Counterattack - WBBA29 - Beyblade Bakushin Susanow Black - WBBA30 - Beyblade Gravity Perseus Defense - WBBA31 - Beyblade Astro Spegasis - WBBA32 - Beyblade Screw Lyra - BB116B33 - Beyblade Galaxy Pegasis Black Sun (Black + Gold)34 - Beyblade Hell Kerbecs - BB9935 - Beyblade Hell Crown - BB116C36 - Beyblade Mercury Anubis Blue - WBBA37 - Beyblade Pegasus Cosmic - WBBA38 - Beyblade Sgrew Capricorne - BB10239 - Beyblade Random Booster Vol 5 - BB8240 - Beyblade Forbidden Ionis - BB116GTerceira Imagem41 - Beyblade Meteo L-Drago Rush - BB9842 - Beyblade Storm Dragon43 - Beyblade Super Sagittario - BB3544 - Beyblade Gravity Perseus - BB8045 - Beyblade Super Phoenix - BB5946 - Beyblade Leo Specialties - BB3047 - Beyblade New Sun God - BB8948 - Beyblade Rock Giraffe - BB7849 - Beyblade Super K Gemios - BB5650 - Beyblade Ravy Unicorno - BB7151 - Beyblade Galaxy Pegasis - BB7052 - Beyblade Rock Spegasis - BB2853 - Beyblade Spegasis L Drago - BB4354 - Beyblade Super F Libra - BB4855 - Beyblade Super Virgo - BB6056 - Beyblade Thermal Lacerta - BB7457 - Beyblade Super Snake - BB6958 - Beyblade Storm Capricorne - BB5059 - Beyblade Super Halcyone - BB4060 - Beyblade Super Wolf - BB29Quarta Imagem61 - Beyblade Super Thermal Pisces - BB5762 - Beyblade Super Giraffe - BB8663 - Beyblade Super C Aquario - BB3764 - Beyblade Super Rescolpio - BB6565 - Beyblade Super Dark Cancer - BB5566 - Beyblade Earth Aquila Bird of Jove - BB47</td>\n",
              "    </tr>\n",
              "    <tr>\n",
              "      <th>3841</th>\n",
              "      <td>Lego Harry Potter 1-4 Jogo Infantil Para Xbox 360 - Novo</td>\n",
              "      <td>NaN</td>\n",
              "      <td>game</td>\n",
              "      <td>58</td>\n",
              "      <td>NaN</td>\n",
              "      <td>Lego Harry Potter 1-4 Jogo Infantil Para Xbox 360 - Novo</td>\n",
              "    </tr>\n",
              "    <tr>\n",
              "      <th>3237</th>\n",
              "      <td>Pes 2018 Pes 18 Ps3 Mídia Digital Psn Original Português</td>\n",
              "      <td>NaN</td>\n",
              "      <td>game</td>\n",
              "      <td>58</td>\n",
              "      <td>NaN</td>\n",
              "      <td>Pes 2018 Pes 18 Ps3 Mídia Digital Psn Original Português</td>\n",
              "    </tr>\n",
              "    <tr>\n",
              "      <th>3503</th>\n",
              "      <td>Need For Speed Most Wanted - Psn Ps3 * Mídia Digital</td>\n",
              "      <td>DescriçãoPara seres o Most Wanted, terás de ser mais rápido que os polícias, melhor piloto que os teus amigos e mais inteligente que os teus rivais. Perseguido por uma força policial impiedosa, terás de tomar decisões no momento. Usa o mundo em aberto para te esconderes, aproveita as rampas de salto e ganha novos veículos para te manteres à frente.Need for Speed(TM) Most WantedTAMANHO DO ARQUIVO4.4 GBPLATAFORMAPS3FORMA DE ENVIO: GRATUITA POR E-MAIL</td>\n",
              "      <td>game</td>\n",
              "      <td>54</td>\n",
              "      <td>452.0</td>\n",
              "      <td>Need For Speed Most Wanted - Psn Ps3 * Mídia Digital  DescriçãoPara seres o Most Wanted, terás de ser mais rápido que os polícias, melhor piloto que os teus amigos e mais inteligente que os teus rivais. Perseguido por uma força policial impiedosa, terás de tomar decisões no momento. Usa o mundo em aberto para te esconderes, aproveita as rampas de salto e ganha novos veículos para te manteres à frente.Need for Speed(TM) Most WantedTAMANHO DO ARQUIVO4.4 GBPLATAFORMAPS3FORMA DE ENVIO: GRATUITA POR E-MAIL</td>\n",
              "    </tr>\n",
              "  </tbody>\n",
              "</table>\n",
              "</div>"
            ],
            "text/plain": [
              "                                                                nome  \\\n",
              "3106    Acabamento Para Degrau De Escada - Cantoneira L Em Aluminio    \n",
              "1611   2 Beyblades Original Rapidity + 4 Pontas 2 Lançador Promoção    \n",
              "3841       Lego Harry Potter 1-4 Jogo Infantil Para Xbox 360 - Novo    \n",
              "3237       Pes 2018 Pes 18 Ps3 Mídia Digital Psn Original Português    \n",
              "3503           Need For Speed Most Wanted - Psn Ps3 * Mídia Digital    \n",
              "\n",
              "                                                                                                                                                                                                                                                                                                                                                                                                                                                                                                                                                                                                                                                                                                                                                                                                                                                                                                                                                                                                                                                                                                                                                                                                                                                                                                                                                                                                                                                                                                                                                                                                                                                                                                                                                                                                                                                                                                                                                                                                                                                                                                                                                                                                                                                                                                                                                                                                                                                                                                                                                                                                                                                                                                                                                                                                                                                                                                                                                                    descricao  \\\n",
              "3106                                                                                                                                                                                                                                                                                                                                                                                                                                                                                                                                                                                                                                                                                                                                                                                                                                                                                                                                                                                                                                                                                                                                                                                                                                                                                                                                                                                                                                                                                                                                                                                                                                                                                                                                                                                                                                                                                                                                                                                                                                                                                                                                                                                                                                                                                                                                                              Cantoneira L P/ Acabamento de Degrau cor.: Aluminio NaturalDimensões: 14mm x 34mm x 1,00ml Beneficio do FRETE GRÁTIS nas compra de 14 unidades ou mais.-A Contoneira Metallica em L é utilizada para dar acabamentos em degraus de escada e quinas, seu uso não é restrito apenas a pisos laminados e vinílicos, podendo ser utilizada também em pisos cerâmicos, epóxi e cimenticos.-Seu uso ajuda a manter a vida útil do piso, pois a cantoneira protege a área mais frágil e exposta.Obs.: A fixação deste perfil deve ser realizada cola de contato ou silicone de alta aderencia. Cod.: 5904Peso: 90g   \n",
              "1611  Contém: 2 Beyblades + 2 Lançadores Speed + Acessórios + Adesivos + 4 Pontas (2 Pontas de Metal + 2 Pontas de Plástico)Obs.: As ponteiras de metal são enviadas de forma aleatória, ou seja, você pode receber algum dos 2 modelos das imagens que estão sendo mostradas.--- ESCOLHA A BEYBLADE DESEJADA APÓS A COMPRA REALIZADA VIA MENSAGEM ---Primeira Imagem1 - Beyblade Pegasus Big Bang Pegasis - BB1052 - Beyblade L Drago Destroy - BB1083 - Beyblade L Drago Gold4 - Beyblade Quetzalcoatl Death - BB1195 - Beyblade Omega Dragonis - BB1286 - Beyblade Fusion Hades - BB1237 - Beyblade Phantom Orion - BB1188 - Beyblade Diablo Proto Nemesis - BB1209 - Beyblade Diablo Nemesis XD - BB12210 - Beyblade Twisted Tempo Basalt Horogium - BB10411 - Beyblade Scythe Kronos - BB11312 - Beyblade Kreis Cygnus - BB12413 - Beyblade Beat Lynx Super Rare - BB10914 - Beyblade L Drago Guardian - BB121B15 - Beyblade Fang Leone (Green) - BB10616 - Beyblade Pegasus Wing Pegasis - BB121A17 - Beyblade Variares - BB11418 - Beyblade Flash Sagittario - BB12619 - Beyblade Mercury Anubis Red - BB11120 - Beyblade Duouranus - BB121CSegunda Imagem21 - Beyblade Blitz Striker Unicornio - BB11722 - Beyblade Fang Leone (Red) - WBBA Rare23 - Beyblade Divine Fox - BB116E24 - Beyblade Jade Jupiter - BB116A25 - Beyblade Svrew Fox - BB116F26 - Beyblade Nightmare Rex - WBBA27 - Beyblade Meteo L-Drago Assault - BB98 WBBA - Blue28 - Beyblade Rock Fang Leone King Counterattack - WBBA29 - Beyblade Bakushin Susanow Black - WBBA30 - Beyblade Gravity Perseus Defense - WBBA31 - Beyblade Astro Spegasis - WBBA32 - Beyblade Screw Lyra - BB116B33 - Beyblade Galaxy Pegasis Black Sun (Black + Gold)34 - Beyblade Hell Kerbecs - BB9935 - Beyblade Hell Crown - BB116C36 - Beyblade Mercury Anubis Blue - WBBA37 - Beyblade Pegasus Cosmic - WBBA38 - Beyblade Sgrew Capricorne - BB10239 - Beyblade Random Booster Vol 5 - BB8240 - Beyblade Forbidden Ionis - BB116GTerceira Imagem41 - Beyblade Meteo L-Drago Rush - BB9842 - Beyblade Storm Dragon43 - Beyblade Super Sagittario - BB3544 - Beyblade Gravity Perseus - BB8045 - Beyblade Super Phoenix - BB5946 - Beyblade Leo Specialties - BB3047 - Beyblade New Sun God - BB8948 - Beyblade Rock Giraffe - BB7849 - Beyblade Super K Gemios - BB5650 - Beyblade Ravy Unicorno - BB7151 - Beyblade Galaxy Pegasis - BB7052 - Beyblade Rock Spegasis - BB2853 - Beyblade Spegasis L Drago - BB4354 - Beyblade Super F Libra - BB4855 - Beyblade Super Virgo - BB6056 - Beyblade Thermal Lacerta - BB7457 - Beyblade Super Snake - BB6958 - Beyblade Storm Capricorne - BB5059 - Beyblade Super Halcyone - BB4060 - Beyblade Super Wolf - BB29Quarta Imagem61 - Beyblade Super Thermal Pisces - BB5762 - Beyblade Super Giraffe - BB8663 - Beyblade Super C Aquario - BB3764 - Beyblade Super Rescolpio - BB6565 - Beyblade Super Dark Cancer - BB5566 - Beyblade Earth Aquila Bird of Jove - BB47   \n",
              "3841                                                                                                                                                                                                                                                                                                                                                                                                                                                                                                                                                                                                                                                                                                                                                                                                                                                                                                                                                                                                                                                                                                                                                                                                                                                                                                                                                                                                                                                                                                                                                                                                                                                                                                                                                                                                                                                                                                                                                                                                                                                                                                                                                                                                                                                                                                                                                                                                                                                                                                                                                                                                                                                                                                                                                                                                                                                                                                                                                                      NaN   \n",
              "3237                                                                                                                                                                                                                                                                                                                                                                                                                                                                                                                                                                                                                                                                                                                                                                                                                                                                                                                                                                                                                                                                                                                                                                                                                                                                                                                                                                                                                                                                                                                                                                                                                                                                                                                                                                                                                                                                                                                                                                                                                                                                                                                                                                                                                                                                                                                                                                                                                                                                                                                                                                                                                                                                                                                                                                                                                                                                                                                                                                      NaN   \n",
              "3503                                                                                                                                                                                                                                                                                                                                                                                                                                                                                                                                                                                                                                                                                                                                                                                                                                                                                                                                                                                                                                                                                                                                                                                                                                                                                                                                                                                                                                                                                                                                                                                                                                                                                                                                                                                                                                                                                                                                                                                                                                                                                                                                                                                                                                                                                                                                                                                                                                                                                                     DescriçãoPara seres o Most Wanted, terás de ser mais rápido que os polícias, melhor piloto que os teus amigos e mais inteligente que os teus rivais. Perseguido por uma força policial impiedosa, terás de tomar decisões no momento. Usa o mundo em aberto para te esconderes, aproveita as rampas de salto e ganha novos veículos para te manteres à frente.Need for Speed(TM) Most WantedTAMANHO DO ARQUIVO4.4 GBPLATAFORMAPS3FORMA DE ENVIO: GRATUITA POR E-MAIL   \n",
              "\n",
              "      categoria  nome_length  descricao_length  \\\n",
              "3106       game           61             587.0   \n",
              "1611  brinquedo           62            2855.0   \n",
              "3841       game           58               NaN   \n",
              "3237       game           58               NaN   \n",
              "3503       game           54             452.0   \n",
              "\n",
              "                                                                                                                                                                                                                                                                                                                                                                                                                                                                                                                                                                                                                                                                                                                                                                                                                                                                                                                                                                                                                                                                                                                                                                                                                                                                                                                                                                                                                                                                                                                                                                                                                                                                                                                                                                                                                                                                                                                                                                                                                                                                                                                                                                                                                                                                                                                                                                                                                                                                                                                                                                                                                                                                                                                                                                                                                                                                                                                                                                                                                                       texto  \n",
              "3106                                                                                                                                                                                                                                                                                                                                                                                                                                                                                                                                                                                                                                                                                                                                                                                                                                                                                                                                                                                                                                                                                                                                                                                                                                                                                                                                                                                                                                                                                                                                                                                                                                                                                                                                                                                                                                                                                                                                                                                                                                                                                                                                                                                                                                                                                                                                                                Acabamento Para Degrau De Escada - Cantoneira L Em Aluminio  Cantoneira L P/ Acabamento de Degrau cor.: Aluminio NaturalDimensões: 14mm x 34mm x 1,00ml Beneficio do FRETE GRÁTIS nas compra de 14 unidades ou mais.-A Contoneira Metallica em L é utilizada para dar acabamentos em degraus de escada e quinas, seu uso não é restrito apenas a pisos laminados e vinílicos, podendo ser utilizada também em pisos cerâmicos, epóxi e cimenticos.-Seu uso ajuda a manter a vida útil do piso, pois a cantoneira protege a área mais frágil e exposta.Obs.: A fixação deste perfil deve ser realizada cola de contato ou silicone de alta aderencia. Cod.: 5904Peso: 90g  \n",
              "1611   2 Beyblades Original Rapidity + 4 Pontas 2 Lançador Promoção  Contém: 2 Beyblades + 2 Lançadores Speed + Acessórios + Adesivos + 4 Pontas (2 Pontas de Metal + 2 Pontas de Plástico)Obs.: As ponteiras de metal são enviadas de forma aleatória, ou seja, você pode receber algum dos 2 modelos das imagens que estão sendo mostradas.--- ESCOLHA A BEYBLADE DESEJADA APÓS A COMPRA REALIZADA VIA MENSAGEM ---Primeira Imagem1 - Beyblade Pegasus Big Bang Pegasis - BB1052 - Beyblade L Drago Destroy - BB1083 - Beyblade L Drago Gold4 - Beyblade Quetzalcoatl Death - BB1195 - Beyblade Omega Dragonis - BB1286 - Beyblade Fusion Hades - BB1237 - Beyblade Phantom Orion - BB1188 - Beyblade Diablo Proto Nemesis - BB1209 - Beyblade Diablo Nemesis XD - BB12210 - Beyblade Twisted Tempo Basalt Horogium - BB10411 - Beyblade Scythe Kronos - BB11312 - Beyblade Kreis Cygnus - BB12413 - Beyblade Beat Lynx Super Rare - BB10914 - Beyblade L Drago Guardian - BB121B15 - Beyblade Fang Leone (Green) - BB10616 - Beyblade Pegasus Wing Pegasis - BB121A17 - Beyblade Variares - BB11418 - Beyblade Flash Sagittario - BB12619 - Beyblade Mercury Anubis Red - BB11120 - Beyblade Duouranus - BB121CSegunda Imagem21 - Beyblade Blitz Striker Unicornio - BB11722 - Beyblade Fang Leone (Red) - WBBA Rare23 - Beyblade Divine Fox - BB116E24 - Beyblade Jade Jupiter - BB116A25 - Beyblade Svrew Fox - BB116F26 - Beyblade Nightmare Rex - WBBA27 - Beyblade Meteo L-Drago Assault - BB98 WBBA - Blue28 - Beyblade Rock Fang Leone King Counterattack - WBBA29 - Beyblade Bakushin Susanow Black - WBBA30 - Beyblade Gravity Perseus Defense - WBBA31 - Beyblade Astro Spegasis - WBBA32 - Beyblade Screw Lyra - BB116B33 - Beyblade Galaxy Pegasis Black Sun (Black + Gold)34 - Beyblade Hell Kerbecs - BB9935 - Beyblade Hell Crown - BB116C36 - Beyblade Mercury Anubis Blue - WBBA37 - Beyblade Pegasus Cosmic - WBBA38 - Beyblade Sgrew Capricorne - BB10239 - Beyblade Random Booster Vol 5 - BB8240 - Beyblade Forbidden Ionis - BB116GTerceira Imagem41 - Beyblade Meteo L-Drago Rush - BB9842 - Beyblade Storm Dragon43 - Beyblade Super Sagittario - BB3544 - Beyblade Gravity Perseus - BB8045 - Beyblade Super Phoenix - BB5946 - Beyblade Leo Specialties - BB3047 - Beyblade New Sun God - BB8948 - Beyblade Rock Giraffe - BB7849 - Beyblade Super K Gemios - BB5650 - Beyblade Ravy Unicorno - BB7151 - Beyblade Galaxy Pegasis - BB7052 - Beyblade Rock Spegasis - BB2853 - Beyblade Spegasis L Drago - BB4354 - Beyblade Super F Libra - BB4855 - Beyblade Super Virgo - BB6056 - Beyblade Thermal Lacerta - BB7457 - Beyblade Super Snake - BB6958 - Beyblade Storm Capricorne - BB5059 - Beyblade Super Halcyone - BB4060 - Beyblade Super Wolf - BB29Quarta Imagem61 - Beyblade Super Thermal Pisces - BB5762 - Beyblade Super Giraffe - BB8663 - Beyblade Super C Aquario - BB3764 - Beyblade Super Rescolpio - BB6565 - Beyblade Super Dark Cancer - BB5566 - Beyblade Earth Aquila Bird of Jove - BB47  \n",
              "3841                                                                                                                                                                                                                                                                                                                                                                                                                                                                                                                                                                                                                                                                                                                                                                                                                                                                                                                                                                                                                                                                                                                                                                                                                                                                                                                                                                                                                                                                                                                                                                                                                                                                                                                                                                                                                                                                                                                                                                                                                                                                                                                                                                                                                                                                                                                                                                                                                                                                                                                                                                                                                                                                                                                                                                                                                                                                                                                                                                              Lego Harry Potter 1-4 Jogo Infantil Para Xbox 360 - Novo    \n",
              "3237                                                                                                                                                                                                                                                                                                                                                                                                                                                                                                                                                                                                                                                                                                                                                                                                                                                                                                                                                                                                                                                                                                                                                                                                                                                                                                                                                                                                                                                                                                                                                                                                                                                                                                                                                                                                                                                                                                                                                                                                                                                                                                                                                                                                                                                                                                                                                                                                                                                                                                                                                                                                                                                                                                                                                                                                                                                                                                                                                                              Pes 2018 Pes 18 Ps3 Mídia Digital Psn Original Português    \n",
              "3503                                                                                                                                                                                                                                                                                                                                                                                                                                                                                                                                                                                                                                                                                                                                                                                                                                                                                                                                                                                                                                                                                                                                                                                                                                                                                                                                                                                                                                                                                                                                                                                                                                                                                                                                                                                                                                                                                                                                                                                                                                                                                                                                                                                                                                                                                                                                                                                                                                                                                                              Need For Speed Most Wanted - Psn Ps3 * Mídia Digital  DescriçãoPara seres o Most Wanted, terás de ser mais rápido que os polícias, melhor piloto que os teus amigos e mais inteligente que os teus rivais. Perseguido por uma força policial impiedosa, terás de tomar decisões no momento. Usa o mundo em aberto para te esconderes, aproveita as rampas de salto e ganha novos veículos para te manteres à frente.Need for Speed(TM) Most WantedTAMANHO DO ARQUIVO4.4 GBPLATAFORMAPS3FORMA DE ENVIO: GRATUITA POR E-MAIL  "
            ]
          },
          "execution_count": 17,
          "metadata": {},
          "output_type": "execute_result"
        }
      ],
      "source": [
        "df_sample = df.sample(100, random_state=42)\n",
        "df_sample.head()"
      ]
    },
    {
      "cell_type": "code",
      "execution_count": null,
      "metadata": {},
      "outputs": [],
      "source": [
        "import openai\n",
        "\n",
        "# Exemplo de exploração GenAI: classificação de categoria usando OpenAI GPT (simulação de prompt engineering)\n",
        "# Observação: Não inclua sua chave de API no notebook entregue!\n",
        "\n",
        "\n",
        "# Função para classificar um produto usando o nome + descrição (texto)\n",
        "def classificar_categoria_genai(texto, modelo=\"gpt-3.5-turbo\"):\n",
        "    prompt = (\n",
        "        f\"Considere o seguinte produto:\\n\"\n",
        "        f\"{texto}\\n\"\n",
        "        \"Com base no nome e descrição acima, qual seria a categoria mais adequada para esse produto? \"\n",
        "        \"Responda apenas com o nome da categoria.\"\n",
        "    )\n",
        "    # Chamada à API (descomente e configure sua chave para uso real)\n",
        "    # response = openai.ChatCompletion.create(\n",
        "    #     model=modelo,\n",
        "    #     messages=[{\"role\": \"user\", \"content\": prompt}],\n",
        "    #     max_tokens=20,\n",
        "    #     temperature=0\n",
        "    # )\n",
        "    # categoria = response['choices'][0]['message']['content'].strip()\n",
        "    # return categoria\n",
        "\n",
        "    # Simulação para fins de template:\n",
        "    return \"game\"  # Substitua por resposta real da API\n",
        "\n",
        "# Selecionando um caso individual para teste\n",
        "exemplo = df_sample.iloc[0]\n",
        "print(\"Nome:\", exemplo['nome'])\n",
        "print(\"Descrição:\", exemplo['descricao'])\n",
        "print(\"Texto:\", exemplo['texto'])\n",
        "\n",
        "# Classificando com GenAI (simulado)\n",
        "categoria_predita = classificar_categoria_genai(exemplo['texto'])\n",
        "print(\"Categoria predita pela GenAI:\", categoria_predita)\n",
        "print(\"Categoria real:\", exemplo['categoria'])"
      ]
    },
    {
      "cell_type": "code",
      "execution_count": null,
      "metadata": {},
      "outputs": [],
      "source": []
    },
    {
      "cell_type": "code",
      "execution_count": null,
      "metadata": {
        "id": "Cu3iBI29mJkV"
      },
      "outputs": [],
      "source": []
    },
    {
      "cell_type": "code",
      "execution_count": null,
      "metadata": {
        "id": "KMdGU2rqqdez"
      },
      "outputs": [],
      "source": []
    },
    {
      "cell_type": "markdown",
      "metadata": {
        "id": "EISVWz-KmH5D"
      },
      "source": [
        "##**2. Desenvolvimento e testes**"
      ]
    },
    {
      "cell_type": "markdown",
      "metadata": {
        "id": "Fh9AhDTBmH5D"
      },
      "source": [
        "Desenvolva aqui:"
      ]
    },
    {
      "cell_type": "code",
      "execution_count": null,
      "metadata": {
        "id": "eTukXNWimOuU"
      },
      "outputs": [],
      "source": []
    },
    {
      "cell_type": "code",
      "execution_count": null,
      "metadata": {
        "id": "YVKTu4momOr0"
      },
      "outputs": [],
      "source": []
    },
    {
      "cell_type": "code",
      "execution_count": null,
      "metadata": {
        "id": "3t5QyQ_UmOpl"
      },
      "outputs": [],
      "source": []
    },
    {
      "cell_type": "code",
      "execution_count": null,
      "metadata": {
        "id": "rEL7AhL3mOnM"
      },
      "outputs": [],
      "source": []
    },
    {
      "cell_type": "markdown",
      "metadata": {
        "id": "m4NwScOmmg1c"
      },
      "source": [
        "##**3. Processo final**"
      ]
    },
    {
      "cell_type": "markdown",
      "metadata": {
        "id": "v9FHz-nrmg1d"
      },
      "source": [
        "Desenvolva aqui:"
      ]
    },
    {
      "cell_type": "code",
      "execution_count": null,
      "metadata": {
        "id": "Sz_9WPHVmkvP"
      },
      "outputs": [],
      "source": []
    },
    {
      "cell_type": "code",
      "execution_count": null,
      "metadata": {
        "id": "FMnpzLAbmkst"
      },
      "outputs": [],
      "source": []
    },
    {
      "cell_type": "code",
      "execution_count": null,
      "metadata": {
        "id": "Gmdi4LFrmkhz"
      },
      "outputs": [],
      "source": []
    },
    {
      "cell_type": "code",
      "execution_count": null,
      "metadata": {
        "id": "H4kHa8kfmkfX"
      },
      "outputs": [],
      "source": []
    }
  ],
  "metadata": {
    "colab": {
      "provenance": []
    },
    "kernelspec": {
      "display_name": "Python 3",
      "name": "python3"
    },
    "language_info": {
      "codemirror_mode": {
        "name": "ipython",
        "version": 3
      },
      "file_extension": ".py",
      "mimetype": "text/x-python",
      "name": "python",
      "nbconvert_exporter": "python",
      "pygments_lexer": "ipython3",
      "version": "3.13.5"
    }
  },
  "nbformat": 4,
  "nbformat_minor": 0
}
