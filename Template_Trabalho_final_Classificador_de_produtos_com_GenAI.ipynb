{
  "nbformat": 4,
  "nbformat_minor": 0,
  "metadata": {
    "colab": {
      "provenance": []
    },
    "kernelspec": {
      "name": "python3",
      "display_name": "Python 3"
    },
    "language_info": {
      "name": "python"
    }
  },
  "cells": [
    {
      "cell_type": "markdown",
      "source": [
        "#**Trabalho final - Classificador de produtos com GenAI**"
      ],
      "metadata": {
        "id": "Gg5ZPMO1jo4L"
      }
    },
    {
      "cell_type": "markdown",
      "source": [
        "**Nota de atenção:**\n",
        "- Leia com atenção o descritivo do trabalho e as orientações do template.\n",
        "- O trabalho deve ser entregue **respeitando a estrutura do arquivo de template**, utilizando o notebook \"Template Trabalho final - Classificador de produtos com GenAI.ipynb\" e compactado no formato .zip.\n",
        "- Deve haver apenas um arquivo no formato .ipynb, consolidando todo o trabalho."
      ],
      "metadata": {
        "id": "KXvR5XhTOG0O"
      }
    },
    {
      "cell_type": "markdown",
      "metadata": {
        "id": "VDbi6PDS9MYO"
      },
      "source": [
        "**Participantes (RM - NOME):**<br>\n",
        "xxxx - xxxxx<br>\n",
        "xxxx - xxxxx<br>\n",
        "xxxx - xxxxx<br>\n",
        "xxxx - xxxxx<br>"
      ]
    },
    {
      "cell_type": "markdown",
      "source": [
        "###**Caso de uso:**\n",
        "\n",
        "Uma empresa de marketplace, disponibiliza sua plataforma para diversos vendedores cadastrarem seus produtos em diferentes categorias previamente definidas. Essas categorias são utilizadas para melhor distribuir e divulgar seus produtos para os clientes e usuários da plataforma. Mas nem todos os vendedores respeitam essas categorias, regras e as diretrizes do marketplace.\n",
        "\n",
        "Pense nos diversos problemas que podemos enfrentar:\n",
        "- Vendedores que cadastram produtos em categorias erradas;\n",
        "- Vendedores que querem vender produtos ilícitos;\n",
        "- Vendedores que querem vender produtos que não são permitidos pelas políticas do marketplace e por aí vai...\n",
        "\n",
        "**Será que é possível validar o cadastro desses produtos e categorias, produto por produto**? Um por um?... Que trampo, não???\n",
        "\n",
        "###**Desafio:**\n",
        "- Conseguimos ajudar a mitigar parte desse problema?\n",
        "- Você conseguiria criar algum **processo** que diminua esse trabalho manual e que **valide a categoria** desses produtos?\n",
        "\n",
        "Bom, podemos criar um **processo que seja capaz de classificar um produto através do nome e da descrição**, e depois podemos confrontar com a categoria e premissas da plataforma usando **IA Generativa e modelos LLMs**.\n",
        "\n",
        "###**Orientações:**\n",
        "\n",
        "---\n",
        "####**Usem o Google Colab com Python e esse template para desenvolverem o trabalho.**\n",
        "---\n",
        "\n",
        "**1. Análise exploratória**, vamos começar explorando a base de dados de produtos [1]?\n",
        "  - Faça uma análise exploratória para entender os dados e estrutura do dataframe.\n",
        "  - Crie uma nova coluna no dataframe chamada **`texto`** concatenando as colunas **`nome`** e **`descricao`**. Ex.: `nome + \" \" + descricao`.\n",
        "  - Crie um dataframe novo e selecionando uma amostra aleatória de **100 registros** usando o `random_state = 42` (veja o exemplo abaixo).\n",
        "  \n",
        "  ***Obs**.:\n",
        "    - É importante manter essa configuração da amostra para os trabalhos ficarem comparáveis e classificando os mesmos produtos.\n",
        "    - Faça a análise exploratória com a base completa e não apenas com o sample.\n",
        "\n",
        "**2. Desenvolvimento e testes**, nessa parte é onde vocês podem explorar o desenvolvimento do trabalho aplicando as técnicas, ferramentas e serviços de GenAI.  \n",
        "  - Explore diferentes formas de tratar o problema. Comece selecionando casos individuais para testar as ferramentas, framework, APIs e técnicas de prompt engineering.\n",
        "  - Fiquem à vontade para explorar os serviços e frameworks vistos em aula: API da OpenAI Platform, API da Azure AI Foundry e LangChain.\n",
        "  - Sejam criativo, mas não precisa de complexidade e podem explorar outras formas de desenvolver.\n",
        "  - Explique as decisões e racional do desenvolvimento. Abuse dos comentários.\n",
        "\n",
        "**3. Processo final**, aqui nessa parte separe apenas o processo final com um pipeline completo para classificar a categoria dos produtos.\n",
        "  - Crie uma função de receba um `texto` (nome + descrição do produto) e retorne a categoria classificada pelo texto.\n",
        "  - Aplique essa função no dataframe com os 100 casos.\n",
        "  - Resultado esperado: No dataframe de produto com os 100 casos, crie uma nova coluna de categoria: `categoria_genai`.\n",
        "  - Valide se a classificação da Ia Generativa de cada produto está correta ou divergente comparando com a coluna `categora` escolhida pelo vendedor. Crie uma nova coluna `validacao_categoria` com os valores da validação: `correta` ou `divergente`.\n",
        "\n",
        "###**Avaliação:**\n",
        "O trabalho será avaliado pelas seguintes diretrizes:\n",
        "  - Demonstração de conhecimento com os temas abordados em sala de aula.\n",
        "  - Utilização correta dos frameworks, APIs e aplicação das técnicas de prompt engineering.\n",
        "  - Organização, comentários e explicação certamente vão ajudar na nota.\n",
        "  - Resultado esperado seguindo as orientações do professor nesse template.\n",
        "\n",
        "###**Atenção:**\n",
        "- Use sua conta da **Azure AI Foundry** ou da **OpenAI Platform** para desenvolver o trabalho, mas dê preferência para a conta da Azure por causa dos limites de crédito. **Não deixe suas credenciais no trabalho, por favor!**\n",
        "- Trabalhos iguais são passíveis de reprovação ou desconto de nota.\n",
        "- Respeite a estrutura do template fornecido pelo professor.\n",
        "- Limite de 4 pessoas por grupo, de preferência o mesmo grupo do Startup One.\n",
        "\n",
        "###**[1] Base de dados de produtos - https://dados-ml-pln.s3-sa-east-1.amazonaws.com/produtos.csv**\n"
      ],
      "metadata": {
        "id": "fpDIYrbRkGzz"
      }
    },
    {
      "cell_type": "markdown",
      "source": [
        "##**1. Análise exploratória**"
      ],
      "metadata": {
        "id": "kOWaFxcMqV6W"
      }
    },
    {
      "cell_type": "markdown",
      "source": [
        "Desenvolva aqui:"
      ],
      "metadata": {
        "id": "KIN73qqjmDJs"
      }
    },
    {
      "cell_type": "code",
      "execution_count": 2,
      "metadata": {
        "colab": {
          "base_uri": "https://localhost:8080/",
          "height": 206
        },
        "id": "wBcbl0BDfThK",
        "outputId": "451c9fb3-7400-480c-db16-ce44593795cd"
      },
      "outputs": [
        {
          "output_type": "execute_result",
          "data": {
            "text/plain": [
              "                                                   nome  \\\n",
              "33                                      Extraordinário    \n",
              "3316   Fifa 2018 Narração Português Completo Midia D...   \n",
              "1557   Kit Mega Sarutobi Kunai Naruto Asuma Shuriken...   \n",
              "2548   Caixa 50 Cores Batom Queen Fosco Matte Nude K...   \n",
              "457    Box Dourado Crónica De Gelo E Fogo Edição De ...   \n",
              "\n",
              "                                              descricao  categoria  \n",
              "33    Produto Novo“Extraordinário” é um livro que co...      livro  \n",
              "3316  FIFA 2018 - XBOX 360 MIDIA DIGITAL COMPLETOATE...       game  \n",
              "1557  Descrição do Kit Ninja (Foto):Uma Kunai Asuma ...  brinquedo  \n",
              "2548  CAIXA C/ 50 CORES DIFERENTES!BATOM MATTE QUEEN...  maquiagem  \n",
              "457   A série Crônicas de Gelo e apresentações. São ...      livro  "
            ],
            "text/html": [
              "\n",
              "  <div id=\"df-2e5f00fc-8891-43c4-8b6d-bc7007a77f3f\" class=\"colab-df-container\">\n",
              "    <div>\n",
              "<style scoped>\n",
              "    .dataframe tbody tr th:only-of-type {\n",
              "        vertical-align: middle;\n",
              "    }\n",
              "\n",
              "    .dataframe tbody tr th {\n",
              "        vertical-align: top;\n",
              "    }\n",
              "\n",
              "    .dataframe thead th {\n",
              "        text-align: right;\n",
              "    }\n",
              "</style>\n",
              "<table border=\"1\" class=\"dataframe\">\n",
              "  <thead>\n",
              "    <tr style=\"text-align: right;\">\n",
              "      <th></th>\n",
              "      <th>nome</th>\n",
              "      <th>descricao</th>\n",
              "      <th>categoria</th>\n",
              "    </tr>\n",
              "  </thead>\n",
              "  <tbody>\n",
              "    <tr>\n",
              "      <th>33</th>\n",
              "      <td>Extraordinário</td>\n",
              "      <td>Produto Novo“Extraordinário” é um livro que co...</td>\n",
              "      <td>livro</td>\n",
              "    </tr>\n",
              "    <tr>\n",
              "      <th>3316</th>\n",
              "      <td>Fifa 2018 Narração Português Completo Midia D...</td>\n",
              "      <td>FIFA 2018 - XBOX 360 MIDIA DIGITAL COMPLETOATE...</td>\n",
              "      <td>game</td>\n",
              "    </tr>\n",
              "    <tr>\n",
              "      <th>1557</th>\n",
              "      <td>Kit Mega Sarutobi Kunai Naruto Asuma Shuriken...</td>\n",
              "      <td>Descrição do Kit Ninja (Foto):Uma Kunai Asuma ...</td>\n",
              "      <td>brinquedo</td>\n",
              "    </tr>\n",
              "    <tr>\n",
              "      <th>2548</th>\n",
              "      <td>Caixa 50 Cores Batom Queen Fosco Matte Nude K...</td>\n",
              "      <td>CAIXA C/ 50 CORES DIFERENTES!BATOM MATTE QUEEN...</td>\n",
              "      <td>maquiagem</td>\n",
              "    </tr>\n",
              "    <tr>\n",
              "      <th>457</th>\n",
              "      <td>Box Dourado Crónica De Gelo E Fogo Edição De ...</td>\n",
              "      <td>A série Crônicas de Gelo e apresentações. São ...</td>\n",
              "      <td>livro</td>\n",
              "    </tr>\n",
              "  </tbody>\n",
              "</table>\n",
              "</div>\n",
              "    <div class=\"colab-df-buttons\">\n",
              "\n",
              "  <div class=\"colab-df-container\">\n",
              "    <button class=\"colab-df-convert\" onclick=\"convertToInteractive('df-2e5f00fc-8891-43c4-8b6d-bc7007a77f3f')\"\n",
              "            title=\"Convert this dataframe to an interactive table.\"\n",
              "            style=\"display:none;\">\n",
              "\n",
              "  <svg xmlns=\"http://www.w3.org/2000/svg\" height=\"24px\" viewBox=\"0 -960 960 960\">\n",
              "    <path d=\"M120-120v-720h720v720H120Zm60-500h600v-160H180v160Zm220 220h160v-160H400v160Zm0 220h160v-160H400v160ZM180-400h160v-160H180v160Zm440 0h160v-160H620v160ZM180-180h160v-160H180v160Zm440 0h160v-160H620v160Z\"/>\n",
              "  </svg>\n",
              "    </button>\n",
              "\n",
              "  <style>\n",
              "    .colab-df-container {\n",
              "      display:flex;\n",
              "      gap: 12px;\n",
              "    }\n",
              "\n",
              "    .colab-df-convert {\n",
              "      background-color: #E8F0FE;\n",
              "      border: none;\n",
              "      border-radius: 50%;\n",
              "      cursor: pointer;\n",
              "      display: none;\n",
              "      fill: #1967D2;\n",
              "      height: 32px;\n",
              "      padding: 0 0 0 0;\n",
              "      width: 32px;\n",
              "    }\n",
              "\n",
              "    .colab-df-convert:hover {\n",
              "      background-color: #E2EBFA;\n",
              "      box-shadow: 0px 1px 2px rgba(60, 64, 67, 0.3), 0px 1px 3px 1px rgba(60, 64, 67, 0.15);\n",
              "      fill: #174EA6;\n",
              "    }\n",
              "\n",
              "    .colab-df-buttons div {\n",
              "      margin-bottom: 4px;\n",
              "    }\n",
              "\n",
              "    [theme=dark] .colab-df-convert {\n",
              "      background-color: #3B4455;\n",
              "      fill: #D2E3FC;\n",
              "    }\n",
              "\n",
              "    [theme=dark] .colab-df-convert:hover {\n",
              "      background-color: #434B5C;\n",
              "      box-shadow: 0px 1px 3px 1px rgba(0, 0, 0, 0.15);\n",
              "      filter: drop-shadow(0px 1px 2px rgba(0, 0, 0, 0.3));\n",
              "      fill: #FFFFFF;\n",
              "    }\n",
              "  </style>\n",
              "\n",
              "    <script>\n",
              "      const buttonEl =\n",
              "        document.querySelector('#df-2e5f00fc-8891-43c4-8b6d-bc7007a77f3f button.colab-df-convert');\n",
              "      buttonEl.style.display =\n",
              "        google.colab.kernel.accessAllowed ? 'block' : 'none';\n",
              "\n",
              "      async function convertToInteractive(key) {\n",
              "        const element = document.querySelector('#df-2e5f00fc-8891-43c4-8b6d-bc7007a77f3f');\n",
              "        const dataTable =\n",
              "          await google.colab.kernel.invokeFunction('convertToInteractive',\n",
              "                                                    [key], {});\n",
              "        if (!dataTable) return;\n",
              "\n",
              "        const docLinkHtml = 'Like what you see? Visit the ' +\n",
              "          '<a target=\"_blank\" href=https://colab.research.google.com/notebooks/data_table.ipynb>data table notebook</a>'\n",
              "          + ' to learn more about interactive tables.';\n",
              "        element.innerHTML = '';\n",
              "        dataTable['output_type'] = 'display_data';\n",
              "        await google.colab.output.renderOutput(dataTable, element);\n",
              "        const docLink = document.createElement('div');\n",
              "        docLink.innerHTML = docLinkHtml;\n",
              "        element.appendChild(docLink);\n",
              "      }\n",
              "    </script>\n",
              "  </div>\n",
              "\n",
              "\n",
              "    <div id=\"df-e1f2567e-1535-453f-9ccb-89e7d23ab1e6\">\n",
              "      <button class=\"colab-df-quickchart\" onclick=\"quickchart('df-e1f2567e-1535-453f-9ccb-89e7d23ab1e6')\"\n",
              "                title=\"Suggest charts\"\n",
              "                style=\"display:none;\">\n",
              "\n",
              "<svg xmlns=\"http://www.w3.org/2000/svg\" height=\"24px\"viewBox=\"0 0 24 24\"\n",
              "     width=\"24px\">\n",
              "    <g>\n",
              "        <path d=\"M19 3H5c-1.1 0-2 .9-2 2v14c0 1.1.9 2 2 2h14c1.1 0 2-.9 2-2V5c0-1.1-.9-2-2-2zM9 17H7v-7h2v7zm4 0h-2V7h2v10zm4 0h-2v-4h2v4z\"/>\n",
              "    </g>\n",
              "</svg>\n",
              "      </button>\n",
              "\n",
              "<style>\n",
              "  .colab-df-quickchart {\n",
              "      --bg-color: #E8F0FE;\n",
              "      --fill-color: #1967D2;\n",
              "      --hover-bg-color: #E2EBFA;\n",
              "      --hover-fill-color: #174EA6;\n",
              "      --disabled-fill-color: #AAA;\n",
              "      --disabled-bg-color: #DDD;\n",
              "  }\n",
              "\n",
              "  [theme=dark] .colab-df-quickchart {\n",
              "      --bg-color: #3B4455;\n",
              "      --fill-color: #D2E3FC;\n",
              "      --hover-bg-color: #434B5C;\n",
              "      --hover-fill-color: #FFFFFF;\n",
              "      --disabled-bg-color: #3B4455;\n",
              "      --disabled-fill-color: #666;\n",
              "  }\n",
              "\n",
              "  .colab-df-quickchart {\n",
              "    background-color: var(--bg-color);\n",
              "    border: none;\n",
              "    border-radius: 50%;\n",
              "    cursor: pointer;\n",
              "    display: none;\n",
              "    fill: var(--fill-color);\n",
              "    height: 32px;\n",
              "    padding: 0;\n",
              "    width: 32px;\n",
              "  }\n",
              "\n",
              "  .colab-df-quickchart:hover {\n",
              "    background-color: var(--hover-bg-color);\n",
              "    box-shadow: 0 1px 2px rgba(60, 64, 67, 0.3), 0 1px 3px 1px rgba(60, 64, 67, 0.15);\n",
              "    fill: var(--button-hover-fill-color);\n",
              "  }\n",
              "\n",
              "  .colab-df-quickchart-complete:disabled,\n",
              "  .colab-df-quickchart-complete:disabled:hover {\n",
              "    background-color: var(--disabled-bg-color);\n",
              "    fill: var(--disabled-fill-color);\n",
              "    box-shadow: none;\n",
              "  }\n",
              "\n",
              "  .colab-df-spinner {\n",
              "    border: 2px solid var(--fill-color);\n",
              "    border-color: transparent;\n",
              "    border-bottom-color: var(--fill-color);\n",
              "    animation:\n",
              "      spin 1s steps(1) infinite;\n",
              "  }\n",
              "\n",
              "  @keyframes spin {\n",
              "    0% {\n",
              "      border-color: transparent;\n",
              "      border-bottom-color: var(--fill-color);\n",
              "      border-left-color: var(--fill-color);\n",
              "    }\n",
              "    20% {\n",
              "      border-color: transparent;\n",
              "      border-left-color: var(--fill-color);\n",
              "      border-top-color: var(--fill-color);\n",
              "    }\n",
              "    30% {\n",
              "      border-color: transparent;\n",
              "      border-left-color: var(--fill-color);\n",
              "      border-top-color: var(--fill-color);\n",
              "      border-right-color: var(--fill-color);\n",
              "    }\n",
              "    40% {\n",
              "      border-color: transparent;\n",
              "      border-right-color: var(--fill-color);\n",
              "      border-top-color: var(--fill-color);\n",
              "    }\n",
              "    60% {\n",
              "      border-color: transparent;\n",
              "      border-right-color: var(--fill-color);\n",
              "    }\n",
              "    80% {\n",
              "      border-color: transparent;\n",
              "      border-right-color: var(--fill-color);\n",
              "      border-bottom-color: var(--fill-color);\n",
              "    }\n",
              "    90% {\n",
              "      border-color: transparent;\n",
              "      border-bottom-color: var(--fill-color);\n",
              "    }\n",
              "  }\n",
              "</style>\n",
              "\n",
              "      <script>\n",
              "        async function quickchart(key) {\n",
              "          const quickchartButtonEl =\n",
              "            document.querySelector('#' + key + ' button');\n",
              "          quickchartButtonEl.disabled = true;  // To prevent multiple clicks.\n",
              "          quickchartButtonEl.classList.add('colab-df-spinner');\n",
              "          try {\n",
              "            const charts = await google.colab.kernel.invokeFunction(\n",
              "                'suggestCharts', [key], {});\n",
              "          } catch (error) {\n",
              "            console.error('Error during call to suggestCharts:', error);\n",
              "          }\n",
              "          quickchartButtonEl.classList.remove('colab-df-spinner');\n",
              "          quickchartButtonEl.classList.add('colab-df-quickchart-complete');\n",
              "        }\n",
              "        (() => {\n",
              "          let quickchartButtonEl =\n",
              "            document.querySelector('#df-e1f2567e-1535-453f-9ccb-89e7d23ab1e6 button');\n",
              "          quickchartButtonEl.style.display =\n",
              "            google.colab.kernel.accessAllowed ? 'block' : 'none';\n",
              "        })();\n",
              "      </script>\n",
              "    </div>\n",
              "\n",
              "    </div>\n",
              "  </div>\n"
            ],
            "application/vnd.google.colaboratory.intrinsic+json": {
              "type": "dataframe",
              "variable_name": "df",
              "summary": "{\n  \"name\": \"df\",\n  \"rows\": 100,\n  \"fields\": [\n    {\n      \"column\": \"nome\",\n      \"properties\": {\n        \"dtype\": \"string\",\n        \"num_unique_values\": 100,\n        \"samples\": [\n          \" Acabamento Para Degrau De Escada - Cantoneira L Em Aluminio \",\n          \" 2 Beyblades Original Rapidity + 4 Pontas 2 Lan\\u00e7ador Promo\\u00e7\\u00e3o \",\n          \" Lego Harry Potter 1-4 Jogo Infantil Para Xbox 360 - Novo \"\n        ],\n        \"semantic_type\": \"\",\n        \"description\": \"\"\n      }\n    },\n    {\n      \"column\": \"descricao\",\n      \"properties\": {\n        \"dtype\": \"string\",\n        \"num_unique_values\": 64,\n        \"samples\": [\n          \"Cores Dispon\\u00edveis:- Violet- Nude Hard- Marsala Forever- F\\u00facsia Hard- Pink- Nude- F\\u00facsia- Vermelho Tudo- Berinjela- Rose- Vermelho Love- Chocolate- Vermelho Ver\\u00e3o- Rosa Sonho- Uva Merlot- Rosa Top- Roxo Lend\\u00e1rio- Gren\\u00e1- Nude Rose- Hibisco- Malva- Bord\\u00f4- Carmim - Capuccino- Rosa AntigoCorAs cores s\\u00e3o bem fieis ao que vemos na embalagem e na imagem acima, a secagem \\u00e9 r\\u00e1pida, sim a secagem deste batom \\u00e9 realmente r\\u00e1pida.CoberturaPassando apenas uma vez voc\\u00ea consegue uma cobertura excelente e total dos l\\u00e1bios, se voc\\u00ea gosta de camadas mais grossas \\u00e9 s\\u00f3 repetir o processo, s\\u00e3o aveludados com toque seco, e com apenas uma camada voc\\u00ea consegue ficar bastante tempo com o produto nos l\\u00e1bios. O batom n\\u00e3o craquela.TexturaSua textura \\u00e9 cremosa, e n\\u00e3o \\u00e9 nem um pouco melado e grudento (pode confiar!), confort\\u00e1vel para aplicar, deslizando bem aos l\\u00e1bios, a pigmenta\\u00e7\\u00e3o \\u00e9 excelente, e n\\u00e3o transfere assim t\\u00e3o f\\u00e1cil.Dura\\u00e7\\u00e3o, Aroma e SaborOs batons tem uma \\u00f3tima durabilidade, saindo apenas ap\\u00f3s as refei\\u00e7\\u00f5es mais completas, se voc\\u00ea for apenas beber e comer pequenas quantidades ele n\\u00e3o sa\\u00ed. Todos tem cheirinho de uva e com sabor neutro, n\\u00e3o incomoda.\",\n          \"Esta paleta \\u00e9 composta por 120 cores de sombras \\u00a0pigmentadas e vibrantes.A paleta inclui sombras matte (opacas) e sombras shimmer (brilhosas).\\u00a0 O produto n\\u00e3o possue corantes, o que n\\u00e3o irritar\\u00e1 a pele mais sens\\u00edvel. \\u00c9 perfeito tanto para o uso profissional quanto para uso em casa.Port\\u00e1til e f\\u00e1cil de usar.Conteudo: 1 Paleta 120 cores vibrantes\\u00a0\\u00a0\",\n          \"Produto Novo\\u201cExtraordin\\u00e1rio\\u201d \\u00e9 um livro que conquistou diversos p\\u00fablicos e foi adaptado para o cinema ainda em 2017! Aproveite para ler o livro e conhecer essa hist\\u00f3ria inteligente, sens\\u00edvel e leve que traz mensagens sutis e humanas, deixando uma verdadeira li\\u00e7\\u00e3o de vida sobre respeito e amor ao pr\\u00f3ximo. \\u201cToda pessoa deveria ser aplaudida de p\\u00e9 pelo menos uma vez na vida, porque todos n\\u00f3s vencemos o mundo\\u201d August Pullman (Extraordin\\u00e1rio)  N\\u00e3o julgue um menino pela cara  N\\u00e3o existe nome mais adequado para este livro: \\u201cExtraordin\\u00e1rio\\u201d. De leitura din\\u00e2mica, prazerosa e envolvente, \\u201cExtraordin\\u00e1rio\\u201d conta a hist\\u00f3ria de August Pullman, o Auggie, uma crian\\u00e7a que nasceu com uma s\\u00e9ria s\\u00edndrome gen\\u00e9tica que o deixou com deformidades faciais, fazendo com que ele passasse por diversas cirurgias e complica\\u00e7\\u00f5es m\\u00e9dicas ao longo dos seus poucos anos de vida. Auggie foi educado em casa at\\u00e9 os 10 anos, quando come\\u00e7ou a frequentar o quinto ano em uma escola de verdade. Ser o aluno novo n\\u00e3o \\u00e9 f\\u00e1cil, mas com um rosto t\\u00e3o diferente pode ser ainda mais dif\\u00edcil! Auggie vai ter que convencer seus colegas do col\\u00e9gio particular de Nova York que, apesar de sua apar\\u00eancia diferente, ele \\u00e9 um menino igual a todos os outros.Caracter\\u00edsticasAutor: R. J. PalacioPeso: 0.35I.S.B.N.: 9788580573015Altura: 23.000000Largura: 16.000000Profundidade: 1.000000N\\u00famero de P\\u00e1ginas: 320Idioma: Portugu\\u00easAcabamento: BrochuraTradutor: Rachel AgavinoN\\u00famero da edi\\u00e7\\u00e3o: 1Ano da edi\\u00e7\\u00e3o: 2013Segmento: Fic\\u00e7\\u00e3o - Hist\\u00f3rias inquietantes - Dramas\"\n        ],\n        \"semantic_type\": \"\",\n        \"description\": \"\"\n      }\n    },\n    {\n      \"column\": \"categoria\",\n      \"properties\": {\n        \"dtype\": \"category\",\n        \"num_unique_values\": 4,\n        \"samples\": [\n          \"game\",\n          \"maquiagem\",\n          \"livro\"\n        ],\n        \"semantic_type\": \"\",\n        \"description\": \"\"\n      }\n    }\n  ]\n}"
            }
          },
          "metadata": {},
          "execution_count": 2
        }
      ],
      "source": [
        "# Exemplo de como ficaria o sample de 100 casos\n",
        "import pandas as pd\n",
        "\n",
        "df = pd.read_csv(\n",
        "    \"https://dados-ml-pln.s3-sa-east-1.amazonaws.com/produtos.csv\",\n",
        "    delimiter=\";\",\n",
        "    encoding='utf-8' ).sample(100, random_state=42)\n",
        "\n",
        "df.head()"
      ]
    },
    {
      "cell_type": "code",
      "source": [],
      "metadata": {
        "id": "871VvqkZqdhL"
      },
      "execution_count": null,
      "outputs": []
    },
    {
      "cell_type": "code",
      "source": [],
      "metadata": {
        "id": "HK20ypXJmJml"
      },
      "execution_count": null,
      "outputs": []
    },
    {
      "cell_type": "code",
      "source": [],
      "metadata": {
        "id": "Cu3iBI29mJkV"
      },
      "execution_count": null,
      "outputs": []
    },
    {
      "cell_type": "code",
      "source": [],
      "metadata": {
        "id": "KMdGU2rqqdez"
      },
      "execution_count": null,
      "outputs": []
    },
    {
      "cell_type": "markdown",
      "source": [
        "##**2. Desenvolvimento e testes**"
      ],
      "metadata": {
        "id": "EISVWz-KmH5D"
      }
    },
    {
      "cell_type": "markdown",
      "source": [
        "Desenvolva aqui:"
      ],
      "metadata": {
        "id": "Fh9AhDTBmH5D"
      }
    },
    {
      "cell_type": "code",
      "source": [],
      "metadata": {
        "id": "eTukXNWimOuU"
      },
      "execution_count": null,
      "outputs": []
    },
    {
      "cell_type": "code",
      "source": [],
      "metadata": {
        "id": "YVKTu4momOr0"
      },
      "execution_count": null,
      "outputs": []
    },
    {
      "cell_type": "code",
      "source": [],
      "metadata": {
        "id": "3t5QyQ_UmOpl"
      },
      "execution_count": null,
      "outputs": []
    },
    {
      "cell_type": "code",
      "source": [],
      "metadata": {
        "id": "rEL7AhL3mOnM"
      },
      "execution_count": null,
      "outputs": []
    },
    {
      "cell_type": "markdown",
      "source": [
        "##**3. Processo final**"
      ],
      "metadata": {
        "id": "m4NwScOmmg1c"
      }
    },
    {
      "cell_type": "markdown",
      "source": [
        "Desenvolva aqui:"
      ],
      "metadata": {
        "id": "v9FHz-nrmg1d"
      }
    },
    {
      "cell_type": "code",
      "source": [],
      "metadata": {
        "id": "Sz_9WPHVmkvP"
      },
      "execution_count": null,
      "outputs": []
    },
    {
      "cell_type": "code",
      "source": [],
      "metadata": {
        "id": "FMnpzLAbmkst"
      },
      "execution_count": null,
      "outputs": []
    },
    {
      "cell_type": "code",
      "source": [],
      "metadata": {
        "id": "Gmdi4LFrmkhz"
      },
      "execution_count": null,
      "outputs": []
    },
    {
      "cell_type": "code",
      "source": [],
      "metadata": {
        "id": "H4kHa8kfmkfX"
      },
      "execution_count": null,
      "outputs": []
    }
  ]
}